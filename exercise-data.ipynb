{
 "cells": [
  {
   "cell_type": "code",
   "execution_count": 9,
   "metadata": {},
   "outputs": [],
   "source": [
    "import numpy as np\n",
    "import scipy as sp\n",
    "\n",
    "np.random.seed(13)"
   ]
  },
  {
   "cell_type": "code",
   "execution_count": 10,
   "metadata": {},
   "outputs": [],
   "source": [
    "M = 125 # GeV\n",
    "\n",
    "def gen_bkg(N):\n",
    "    return sp.stats.expon(loc=100, scale=1/0.05).rvs(N)\n",
    "\n",
    "def gen_sig(N, m=M):\n",
    "    return sp.stats.norm(loc=m, scale=2).rvs(N)"
   ]
  },
  {
   "cell_type": "code",
   "execution_count": 11,
   "metadata": {},
   "outputs": [],
   "source": [
    "N_bkg = 100000\n",
    "N_sig = 1000\n",
    "\n",
    "data_bkg = gen_bkg(int(0.9*N_bkg))\n",
    "data_sig = gen_sig(int(2.0*N_sig))\n",
    "\n",
    "data = np.concatenate([data_bkg, data_sig])\n",
    "np.random.shuffle(data)\n",
    "np.savetxt('LHC_data.txt', data)"
   ]
  },
  {
   "cell_type": "code",
   "execution_count": null,
   "metadata": {},
   "outputs": [],
   "source": []
  }
 ],
 "metadata": {
  "kernelspec": {
   "display_name": ".venv",
   "language": "python",
   "name": "python3"
  },
  "language_info": {
   "codemirror_mode": {
    "name": "ipython",
    "version": 3
   },
   "file_extension": ".py",
   "mimetype": "text/x-python",
   "name": "python",
   "nbconvert_exporter": "python",
   "pygments_lexer": "ipython3",
   "version": "3.12.3"
  }
 },
 "nbformat": 4,
 "nbformat_minor": 2
}
